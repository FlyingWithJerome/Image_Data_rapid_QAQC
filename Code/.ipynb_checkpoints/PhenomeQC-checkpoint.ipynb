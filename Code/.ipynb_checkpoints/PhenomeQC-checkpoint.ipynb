{
 "cells": [
  {
   "cell_type": "code",
   "execution_count": null,
   "metadata": {
    "collapsed": true
   },
   "outputs": [],
   "source": [
    "#Test script\n",
    "#PhenomeQC.py complete_RedEdge_69meters --coord POLYGON((-87.005519 40.477489 , -87.000945 40.477490 , -87.000971 40.476615 , -87.005519 40.476634, -87.005519 40.477489)) --camera \"rededge\" --ground 217\n"
   ]
  },
  {
   "cell_type": "code",
   "execution_count": 1,
   "metadata": {
    "collapsed": true
   },
   "outputs": [],
   "source": [
    "import argparse\n",
    "import numpy\n",
    "import os\n",
    "import string\n",
    "import sys\n"
   ]
  },
  {
   "cell_type": "code",
   "execution_count": 2,
   "metadata": {
    "collapsed": false
   },
   "outputs": [
    {
     "ename": "ValueError",
     "evalue": "'str' is not callable",
     "output_type": "error",
     "traceback": [
      "\u001b[0;31m---------------------------------------------------------------------------\u001b[0m",
      "\u001b[0;31mValueError\u001b[0m                                Traceback (most recent call last)",
      "\u001b[0;32m<ipython-input-2-ab73da7ca015>\u001b[0m in \u001b[0;36m<module>\u001b[0;34m()\u001b[0m\n\u001b[1;32m      1\u001b[0m \u001b[0mparser\u001b[0m \u001b[0;34m=\u001b[0m \u001b[0margparse\u001b[0m\u001b[0;34m.\u001b[0m\u001b[0mArgumentParser\u001b[0m\u001b[0;34m(\u001b[0m\u001b[0mdescription\u001b[0m\u001b[0;34m=\u001b[0m\u001b[0;34m'Parses user input for PhenomeQC'\u001b[0m\u001b[0;34m)\u001b[0m\u001b[0;34m\u001b[0m\u001b[0m\n\u001b[1;32m      2\u001b[0m \u001b[0;31m#Required arguments\u001b[0m\u001b[0;34m\u001b[0m\u001b[0;34m\u001b[0m\u001b[0m\n\u001b[0;32m----> 3\u001b[0;31m \u001b[0mparser\u001b[0m\u001b[0;34m.\u001b[0m\u001b[0madd_argument\u001b[0m\u001b[0;34m(\u001b[0m\u001b[0;34m'-c'\u001b[0m\u001b[0;34m,\u001b[0m \u001b[0;34m'--coords'\u001b[0m\u001b[0;34m,\u001b[0m \u001b[0mtype\u001b[0m\u001b[0;34m=\u001b[0m\u001b[0;34m'str'\u001b[0m\u001b[0;34m,\u001b[0m \u001b[0mhelp\u001b[0m\u001b[0;34m=\u001b[0m\u001b[0;34m'Input file that contains the coordinates for the plot that has been flown. String of field plot in WKT.'\u001b[0m\u001b[0;34m)\u001b[0m\u001b[0;34m\u001b[0m\u001b[0m\n\u001b[0m\u001b[1;32m      4\u001b[0m \u001b[0mparser\u001b[0m\u001b[0;34m.\u001b[0m\u001b[0madd_argument\u001b[0m\u001b[0;34m(\u001b[0m\u001b[0;34m'-C'\u001b[0m\u001b[0;34m,\u001b[0m \u001b[0;34m'--camera'\u001b[0m\u001b[0;34m,\u001b[0m \u001b[0mtype\u001b[0m\u001b[0;34m=\u001b[0m\u001b[0;34m'str'\u001b[0m\u001b[0;34m,\u001b[0m \u001b[0mhelp\u001b[0m\u001b[0;34m=\u001b[0m\u001b[0;34m'Type of camera used. Supported camera types: sequoia/parrot, rededge, rgb, hyperspectral. Inputs as a string.'\u001b[0m\u001b[0;34m)\u001b[0m\u001b[0;34m\u001b[0m\u001b[0m\n\u001b[1;32m      5\u001b[0m \u001b[0mparser\u001b[0m\u001b[0;34m.\u001b[0m\u001b[0madd_argument\u001b[0m\u001b[0;34m(\u001b[0m\u001b[0;34m'-g'\u001b[0m\u001b[0;34m,\u001b[0m \u001b[0;34m'--ground'\u001b[0m\u001b[0;34m,\u001b[0m \u001b[0mtype\u001b[0m\u001b[0;34m=\u001b[0m\u001b[0;34m'double'\u001b[0m\u001b[0;34m,\u001b[0m \u001b[0mhelp\u001b[0m\u001b[0;34m=\u001b[0m\u001b[0;34m'Ground level from ocean height in meters. Set as a double.'\u001b[0m\u001b[0;34m)\u001b[0m\u001b[0;34m\u001b[0m\u001b[0m\n",
      "\u001b[0;32m/usr/local/Cellar/python/2.7.11/Frameworks/Python.framework/Versions/2.7/lib/python2.7/argparse.pyc\u001b[0m in \u001b[0;36madd_argument\u001b[0;34m(self, *args, **kwargs)\u001b[0m\n\u001b[1;32m   1297\u001b[0m         \u001b[0mtype_func\u001b[0m \u001b[0;34m=\u001b[0m \u001b[0mself\u001b[0m\u001b[0;34m.\u001b[0m\u001b[0m_registry_get\u001b[0m\u001b[0;34m(\u001b[0m\u001b[0;34m'type'\u001b[0m\u001b[0;34m,\u001b[0m \u001b[0maction\u001b[0m\u001b[0;34m.\u001b[0m\u001b[0mtype\u001b[0m\u001b[0;34m,\u001b[0m \u001b[0maction\u001b[0m\u001b[0;34m.\u001b[0m\u001b[0mtype\u001b[0m\u001b[0;34m)\u001b[0m\u001b[0;34m\u001b[0m\u001b[0m\n\u001b[1;32m   1298\u001b[0m         \u001b[0;32mif\u001b[0m \u001b[0;32mnot\u001b[0m \u001b[0m_callable\u001b[0m\u001b[0;34m(\u001b[0m\u001b[0mtype_func\u001b[0m\u001b[0;34m)\u001b[0m\u001b[0;34m:\u001b[0m\u001b[0;34m\u001b[0m\u001b[0m\n\u001b[0;32m-> 1299\u001b[0;31m             \u001b[0;32mraise\u001b[0m \u001b[0mValueError\u001b[0m\u001b[0;34m(\u001b[0m\u001b[0;34m'%r is not callable'\u001b[0m \u001b[0;34m%\u001b[0m \u001b[0;34m(\u001b[0m\u001b[0mtype_func\u001b[0m\u001b[0;34m,\u001b[0m\u001b[0;34m)\u001b[0m\u001b[0;34m)\u001b[0m\u001b[0;34m\u001b[0m\u001b[0m\n\u001b[0m\u001b[1;32m   1300\u001b[0m \u001b[0;34m\u001b[0m\u001b[0m\n\u001b[1;32m   1301\u001b[0m         \u001b[0;31m# raise an error if the metavar does not match the type\u001b[0m\u001b[0;34m\u001b[0m\u001b[0;34m\u001b[0m\u001b[0m\n",
      "\u001b[0;31mValueError\u001b[0m: 'str' is not callable"
     ]
    }
   ],
   "source": [
    "parser = argparse.ArgumentParser(description='Parses user input for PhenomeQC')\n",
    "#Required arguments\n",
    "parser.add_argument('-c', '--coords', type='str', help='Input file that contains the coordinates for the plot that has been flown. String of field plot in WKT.')\n",
    "parser.add_argument('-C', '--camera', type='str', help='Type of camera used. Supported camera types: sequoia/parrot, rededge, rgb, hyperspectral. Inputs as a string.')\n",
    "parser.add_argument('-g', '--ground', type='double', help='Ground level from ocean height in meters. Set as a double.')\n",
    "\n",
    "#Optional arguments\n",
    "parser.add_argument('--resolution', type='double', help='Resolution of bounding boxes on the ground. Changes the size of bounding box on the ground. Default == half a meter. Input as a double in meters.')\n",
    "parser.add_argument('--upper_flight_lvl', type='double', help='Upper bounds on flight level measured as above ground level in meters. Set as a double.')\n",
    "parser.add_argument('--lower_flight_lvl', type='double', help='Lower acceptable bound on flight level as above ground level in meters. Set as a double.')\n",
    "\n",
    "args = parser.parse_args()"
   ]
  },
  {
   "cell_type": "code",
   "execution_count": null,
   "metadata": {
    "collapsed": true
   },
   "outputs": [],
   "source": [
    "def directory_check(directory):\n",
    "    '''\n",
    "    Go over the directory and make sure that\n",
    "    the directory has TIFFs we need\n",
    "    \n",
    "    Return False if no tiff file or has any other files\n",
    "    Return True  if only have tiff file(s)\n",
    "    '''\n",
    "    return True in [files.endswith(\".tif\") for files in os.listdir(directory)]\n",
    "\n",
    "\n",
    "class FieldError(Exception):\n",
    "    '''\n",
    "    All Errors related to class Field are FieldError\n",
    "    '''\n",
    "    pass\n",
    "\n",
    "\n",
    "class BoundingBox:\n",
    "    '''\n",
    "    The class for the bounding box\n",
    "    '''\n",
    "    \n",
    "    def __init__(self, corner_1, corner_2):\n",
    "        \n",
    "        if not isinstance(corner_1,tuple) or not isinstance(corner_2,tuple):\n",
    "            raise Exception\n",
    "        \n",
    "        self.northwest = corner_1\n",
    "        self.southeast = corner_2\n",
    "        \n",
    "        \n",
    "\n",
    "\n",
    "class Field:\n",
    "    '''\n",
    "    Field class has all the GPS information of the Field\n",
    "    Can split the field into several bounding box\n",
    "    '''\n",
    "    \n",
    "    bounding_box = []\n",
    "    \n",
    "    def __init__(self, *args):\n",
    "        if not args:\n",
    "            raise FieldError\n",
    "            \n",
    "        self.raw_bounding_box = list(args)     \n",
    "    \n",
    "    def split_bounding_box(self):\n",
    "        pass\n",
    "    \n",
    "    \n",
    "    def simplified_field(self):\n",
    "        '''\n",
    "        Return the approximate bounding box of the field\n",
    "        '''\n",
    "        \n",
    "        unzip_bounding_box = zip(*bounding_box)\n",
    "        \n",
    "        latitute = sorted(unzip_bounding_box[0])\n",
    "        \n",
    "        latitute_east, latitute_west = latitute[0], latitute[-1]\n",
    "        \n",
    "        longitude = sorted(unzip_bounding_box[-1])\n",
    "        \n",
    "        longitude_south, longitude_north = longitude[0], longitude[-1]\n",
    "        \n",
    "        return [(latitute_west, longitude_north),(latitute_east, longitude_south)]\n",
    "        \n",
    "    \n",
    "    \n",
    "    def get_bounding_box(self):\n",
    "        \n",
    "        if not bounding_box:\n",
    "            raise FieldError(\"No bounding box information (you may need to split it beforehand)\")\n",
    "        \n",
    "        return bounding_box\n",
    "    \n",
    "    \n",
    "def GPS_Loader(wkt_file):\n",
    "    '''\n",
    "    Loads the GPS information from a WKT file and\n",
    "    Wraps into a Field instance\n",
    "    '''\n",
    "    coordinates = []\n",
    "    \n",
    "    with open(wkt_file) as file_handler:\n",
    "        \n",
    "        raw_data = file_handler.read().strip(string.ascii_uppercase + \"()\").split(\",\")\n",
    "        \n",
    "        for members in raw_data:\n",
    "            \n",
    "            data_pair = members.split()\n",
    "            \n",
    "            coordinates.append((float(data_pair[0]), float(data_pair[1])))\n",
    "            \n",
    "        return Field(coordinates)\n",
    "    \n",
    "    \n",
    "\n",
    "def GPS_Expectaion(field_data, lat, lng):\n",
    "    '''\n",
    "    Check whether the \n",
    "    '''\n",
    "    \n",
    "    if not isinstance(field_data, Field):\n",
    "        raise FieldError\n",
    "        "
   ]
  },
  {
   "cell_type": "code",
   "execution_count": null,
   "metadata": {
    "collapsed": true
   },
   "outputs": [],
   "source": []
  },
  {
   "cell_type": "code",
   "execution_count": null,
   "metadata": {
    "collapsed": true
   },
   "outputs": [],
   "source": [
    "#Pass WKT file into GPS_Loader\n",
    "sys.argv[1] = #directory path input\n",
    "sys.argv[-1] = #directory path output"
   ]
  }
 ],
 "metadata": {
  "kernelspec": {
   "display_name": "Python 2",
   "language": "python",
   "name": "python2"
  },
  "language_info": {
   "codemirror_mode": {
    "name": "ipython",
    "version": 2
   },
   "file_extension": ".py",
   "mimetype": "text/x-python",
   "name": "python",
   "nbconvert_exporter": "python",
   "pygments_lexer": "ipython2",
   "version": "2.7.11"
  }
 },
 "nbformat": 4,
 "nbformat_minor": 1
}
