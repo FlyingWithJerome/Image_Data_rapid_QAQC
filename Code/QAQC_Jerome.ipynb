{
 "cells": [
  {
   "cell_type": "code",
   "execution_count": 2,
   "metadata": {
    "collapsed": false
   },
   "outputs": [],
   "source": [
    "import numpy\n",
    "\n",
    "import os\n",
    "\n",
    "import argparse\n",
    "\n",
    "import string"
   ]
  },
  {
   "cell_type": "code",
   "execution_count": 5,
   "metadata": {
    "collapsed": false
   },
   "outputs": [],
   "source": [
    "def directory_check(directory):\n",
    "    '''\n",
    "    Go over the directory and make sure that\n",
    "    the directory has TIFFs we need\n",
    "    \n",
    "    Return False if no tiff file or has any other files\n",
    "    Return True  if only have tiff file(s)\n",
    "    '''\n",
    "    return True in [files.endswith(\".tif\") for files in os.listdir(directory)]\n",
    "\n",
    "\n",
    "class FieldError(Exception):\n",
    "    '''\n",
    "    All Errors related to class Field are FieldError\n",
    "    '''\n",
    "    pass\n",
    "\n",
    "\n",
    "class Field:\n",
    "    '''\n",
    "    Field class has all the GPS information of the Field\n",
    "    Can split the field into several bounding box\n",
    "    '''\n",
    "    \n",
    "    bounding_box = []\n",
    "    \n",
    "    def __init__(self, *args):\n",
    "        if not args:\n",
    "            raise FieldError\n",
    "            \n",
    "        self.raw_bounding_box = list(args)     \n",
    "    \n",
    "    def split_bounding_box(self):\n",
    "        pass\n",
    "    \n",
    "    def get_bounding_box(self):\n",
    "        \n",
    "        if not bounding_box:\n",
    "            raise FieldError(\"No bounding box information (you may need to split it beforehand)\")\n",
    "        \n",
    "        return bounding_box\n",
    "    \n",
    "    \n",
    "def GPS_Loader(wkt_file):\n",
    "    '''\n",
    "    Loads the GPS information from a WKT file and\n",
    "    Wraps into a Field instance\n",
    "    '''\n",
    "    coordinates = []\n",
    "    \n",
    "    with open(wkt_file) as file_handler:\n",
    "        \n",
    "        raw_data = file_handler.read().strip(string.ascii_uppercase + \"()\").split(\",\")\n",
    "        \n",
    "        for members in raw_data:\n",
    "            \n",
    "            data_pair = members.split()\n",
    "            \n",
    "            coordinates.append((float(data_pair[0]), float(data_pair[1])))\n",
    "            \n",
    "        return Field(coordinates)\n",
    "    \n",
    "    \n",
    "\n",
    "def GPS_Expectaion(field_data, lat, lng):\n",
    "    '''\n",
    "    Check whether the \n",
    "    '''\n",
    "    \n",
    "    if not isinstance(field_data, Field):\n",
    "        raise FieldError\n",
    "        \n",
    "    "
   ]
  },
  {
   "cell_type": "code",
   "execution_count": null,
   "metadata": {
    "collapsed": true
   },
   "outputs": [],
   "source": []
  }
 ],
 "metadata": {
  "kernelspec": {
   "display_name": "Python 2",
   "language": "python",
   "name": "python2"
  },
  "language_info": {
   "codemirror_mode": {
    "name": "ipython",
    "version": 2
   },
   "file_extension": ".py",
   "mimetype": "text/x-python",
   "name": "python",
   "nbconvert_exporter": "python",
   "pygments_lexer": "ipython2",
   "version": "2.7.11"
  }
 },
 "nbformat": 4,
 "nbformat_minor": 0
}
